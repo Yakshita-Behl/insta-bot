{
 "cells": [
  {
   "cell_type": "markdown",
   "metadata": {},
   "source": [
    "# PROJECT : INSTA BOT PART-1"
   ]
  },
  {
   "cell_type": "code",
   "execution_count": 1,
   "metadata": {},
   "outputs": [],
   "source": [
    "#files used\n",
    "from selenium import webdriver\n",
    "import time\n",
    "from selenium.webdriver.support.ui import WebDriverWait\n",
    "from selenium.webdriver.support import expected_conditions as EC\n",
    "from selenium.webdriver.common.by import By\n",
    "from selenium.common.exceptions import TimeoutException\n",
    "from selenium.common.exceptions import NoSuchElementException"
   ]
  },
  {
   "cell_type": "code",
   "execution_count": 2,
   "metadata": {},
   "outputs": [],
   "source": [
    "#Establishing a driver connection \n",
    "driver = webdriver.Edge(executable_path = \"C:\\\\Users\\\\vanib\\\\Desktop\\\\data_science\\\\msedgedriver.exe\")"
   ]
  },
  {
   "cell_type": "markdown",
   "metadata": {},
   "source": [
    "1. Login to your Instagram Handle"
   ]
  },
  {
   "cell_type": "code",
   "execution_count": 3,
   "metadata": {},
   "outputs": [],
   "source": [
    "#opening instagram\n",
    "driver.get('https://www.instagram.com/')\n",
    "wait = WebDriverWait(driver, 10)#Waiting for 10 seconds\n",
    "wait.until(EC.presence_of_element_located((By.NAME, \"username\")))#Wait for the input box for username\n",
    "#logging in to instagram\n",
    "username = driver.find_element_by_name(\"username\")\n",
    "username.send_keys('SAMPLE USERNAME')\n",
    "\n",
    "wait = WebDriverWait(driver, 10) #Waiting for 10 seconds\n",
    "wait.until(EC.presence_of_element_located((By.NAME, \"password\"))) #Wait for the input box for password\n",
    "password = driver.find_element_by_name(\"password\")\n",
    "password.send_keys('SAMPLE PASSWORD')\n",
    "\n",
    "password.submit()"
   ]
  },
  {
   "cell_type": "markdown",
   "metadata": {},
   "source": [
    "2. Type for “food” in search bar and print all the names of the Instagram Handles that are displayed in list after typing “food”"
   ]
  },
  {
   "cell_type": "code",
   "execution_count": 4,
   "metadata": {},
   "outputs": [],
   "source": [
    "#searching for 'food' in search box\n",
    "wait = WebDriverWait(driver, 10) #Waiting for 10 seconds\n",
    "wait.until(EC.presence_of_element_located((By.CLASS_NAME, \"TqC_a\"))) \n",
    "\n",
    "search_box = driver.find_element_by_class_name(\"TqC_a\")\n",
    "search_box.click()\n",
    "\n",
    "input_field = driver.find_element_by_xpath(\"//input[contains(@class, 'XTCLo')]\")\n",
    "input_field.send_keys('Food')"
   ]
  },
  {
   "cell_type": "code",
   "execution_count": 5,
   "metadata": {},
   "outputs": [
    {
     "name": "stdout",
     "output_type": "stream",
     "text": [
      "foodaholik_\n",
      "dilsefoodie\n",
      "yourfoodlab\n",
      "delhifoodguide\n",
      "delhifoodwalks\n",
      "food_lunatic\n",
      "food\n",
      "foodtalkindia\n",
      "thisisdelhi\n",
      "foodinsider\n",
      "foodys\n",
      "weightloss.diet.hindi\n",
      "Food World\n",
      "foodinc.yumyumtree\n",
      "heavy_foodie\n",
      "foodnetwork\n",
      "street_food_chandigarh\n",
      "thefoodranger\n",
      "foodiesince96\n",
      "oh_my.foodies\n",
      "food.travel.style\n",
      "foodie_incarnate\n",
      "ruchika_asatkar\n",
      "foodietrio2020\n",
      "ndtv_food\n",
      "foodcloud.in\n",
      "delhifoodblogger\n",
      "foodie_yard\n",
      "food_belly11\n",
      "delhifoodnest\n",
      "food_on_wheels00\n",
      "food_stans\n",
      "foodie_partners\n",
      "foodelhi\n",
      "thefood.vlogger\n",
      "love_food\n",
      "delhifoodie\n",
      "foodie_anshul\n",
      "food_junc\n",
      "foodies__forever\n",
      "meghnasfoodmagic\n",
      "foodieee___soul\n",
      "hmm_nikhil\n",
      "myfoodproject\n",
      "Food Mechanic\n",
      "foodzaara\n",
      "justgoodfoodco\n",
      "tasteofgirl\n",
      "foodpandaindia\n",
      "foodmania136\n",
      "foodaholicgirish\n",
      "Food Safety and Standards Authority of India\n"
     ]
    }
   ],
   "source": [
    "#printing all the names of searches\n",
    "\n",
    "li = driver.find_elements_by_class_name('Ap253')\n",
    "for i in li:\n",
    "    handle = i.get_attribute('innerHTML')\n",
    "    if '#' not in handle:\n",
    "        print(handle)"
   ]
  },
  {
   "cell_type": "markdown",
   "metadata": {},
   "source": [
    "3.1 Open profile of “So Delhi” "
   ]
  },
  {
   "cell_type": "code",
   "execution_count": 6,
   "metadata": {},
   "outputs": [],
   "source": [
    "## function for visiting a profile on instagram\n",
    "def visit(name):\n",
    "    search_box = driver.find_element_by_xpath(\"//input[contains(@class, 'XTCLo')]\")\n",
    "    search_box.clear()\n",
    "    \n",
    "    search_box.send_keys(name)\n",
    "    time.sleep(4)#waiting for results to load\n",
    "    \n",
    "    insta_handle = driver.find_element_by_class_name(\"Ap253\")\n",
    "    insta_handle.click()\n",
    "    time.sleep(4)\n",
    "    \n",
    "    return"
   ]
  },
  {
   "cell_type": "code",
   "execution_count": 7,
   "metadata": {},
   "outputs": [],
   "source": [
    "visit('So Delhi')"
   ]
  },
  {
   "cell_type": "markdown",
   "metadata": {},
   "source": [
    "4. Follow/Unfollow given handle - \n",
    "    1. Open the Instagram Handle of “So Delhi”\n",
    "    2. Start following it. Print a message if you are already following\n",
    "    3. After following, unfollow the instagram handle. Print a message if you have already unfollowed."
   ]
  },
  {
   "cell_type": "code",
   "execution_count": 8,
   "metadata": {},
   "outputs": [
    {
     "name": "stdout",
     "output_type": "stream",
     "text": [
      "So delhi page followed !\n"
     ]
    }
   ],
   "source": [
    "#following 'so delhi'\n",
    "follow_button = driver.find_element_by_xpath('//button[contains(@class, \"_5f5mN\")]')\n",
    "follow_button.click()\n",
    "\n",
    "print('So delhi page followed !')"
   ]
  },
  {
   "cell_type": "code",
   "execution_count": 9,
   "metadata": {},
   "outputs": [
    {
     "name": "stdout",
     "output_type": "stream",
     "text": [
      "You are already following So delhi\n",
      "So Delhi unfollowed !!\n"
     ]
    }
   ],
   "source": [
    "# unfollowing 'so delhi'\n",
    "unfollow_button = driver.find_element_by_xpath('//button[contains(@class, \"_5f5mN\")]')\n",
    "unfollow_button.click() \n",
    "\n",
    "unfollow_cnfrm = driver.find_element_by_xpath('/html/body/div[5]/div/div/div/div[3]/button[1]')#confirming unfollow in the pop up box\n",
    "unfollow_cnfrm.click()\n",
    "\n",
    "print('You are already following So delhi')\n",
    "print('So Delhi unfollowed !!')"
   ]
  },
  {
   "cell_type": "markdown",
   "metadata": {},
   "source": [
    "5. Like/Unlike posts\n",
    "    1. Liking the top 30 posts of the ‘dilsefoodie'. Print message if you have already liked it.\n",
    "    2. Unliking the top 30 posts of the ‘dilsefoodie’. Print message if you have already unliked it."
   ]
  },
  {
   "cell_type": "code",
   "execution_count": 10,
   "metadata": {},
   "outputs": [
    {
     "name": "stdout",
     "output_type": "stream",
     "text": [
      "Liked 30 images of profile 'dilsefoodie' successfully !\n"
     ]
    }
   ],
   "source": [
    "visit('dilsefoodie')\n",
    "\n",
    "#liking top 30 posts of 'dilsefoodie'\n",
    "wait = WebDriverWait(driver, 30) #Waiting for 10 seconds\n",
    "wait.until(EC.presence_of_element_located((By.CLASS_NAME, \"_9AhH0\")))\n",
    "imageLikes = driver.find_element_by_class_name(\"_9AhH0\")\n",
    "imageLikes.click()\n",
    "time.sleep(2)\n",
    "count = 1\n",
    "for i in range(29): \n",
    "    count += 1\n",
    "    wait = WebDriverWait(driver, 30) #Waiting for 30 seconds\n",
    "    wait.until(EC.presence_of_element_located((By.CLASS_NAME, \"_97aPb \")))\n",
    "    \n",
    "    wait = WebDriverWait(driver, 30) #Waiting for 30 seconds\n",
    "    wait.until(EC.presence_of_element_located((By.CLASS_NAME, \"wpO6b \"))) #Precaution if something happens\n",
    "    \n",
    "    likeButton = driver.find_elements_by_xpath('/html/body/div[5]/div[2]/div/article/div[3]/section[1]/span[1]/button') #like button\n",
    "    likeButton[0].click() #like button click\n",
    "    \n",
    "    waitNext = WebDriverWait(driver, 30)\n",
    "    waitNext.until(EC.element_to_be_clickable((By.XPATH, \"//a[contains(@class, '_65Bje')]\"))) #Precaution if something happens\n",
    "    nextButton = driver.find_element_by_xpath(\"//a[contains(@class, '_65Bje')]\") #next button for next post\n",
    "    nextButton.click() #clicking next button\n",
    "    \n",
    "print(\"Liked\", count, \"images of profile 'dilsefoodie' successfully !\")\n",
    "\n",
    "ImageClose = driver.find_elements_by_class_name(\"wpO6b\")#closing the current post\n",
    "ImageClose[-1].click()  "
   ]
  },
  {
   "cell_type": "code",
   "execution_count": 11,
   "metadata": {},
   "outputs": [
    {
     "name": "stdout",
     "output_type": "stream",
     "text": [
      "Unliked 30 images of profile 'dilsefoodie' successfully !\n"
     ]
    }
   ],
   "source": [
    "#unliking top 30 images of 'dilsefoodie'\n",
    "\n",
    "wait = WebDriverWait(driver, 30) #Waiting for 10 seconds\n",
    "wait.until(EC.presence_of_element_located((By.CLASS_NAME, \"_9AhH0\")))\n",
    "imageLikes = driver.find_element_by_class_name(\"_9AhH0\")\n",
    "imageLikes.click()\n",
    "time.sleep(2)\n",
    "count = 1\n",
    "for i in range(29): \n",
    "    count += 1\n",
    "    wait = WebDriverWait(driver, 30) #Waiting for 30 seconds\n",
    "    wait.until(EC.presence_of_element_located((By.CLASS_NAME, \"_97aPb \")))\n",
    "    \n",
    "    wait = WebDriverWait(driver, 30) #Waiting for 30 seconds\n",
    "    wait.until(EC.presence_of_element_located((By.CLASS_NAME, \"wpO6b \"))) #Precaution if something happens\n",
    "    \n",
    "    likeButton = driver.find_elements_by_xpath('/html/body/div[5]/div[2]/div/article/div[3]/section[1]/span[1]/button') #like button\n",
    "    likeButton[0].click() #like button click\n",
    "    \n",
    "    waitNext = WebDriverWait(driver, 30)\n",
    "    waitNext.until(EC.element_to_be_clickable((By.XPATH, \"//a[contains(@class, '_65Bje')]\"))) #Precaution if something happens\n",
    "    nextButton = driver.find_element_by_xpath(\"//a[contains(@class, '_65Bje')]\") #next button for next post\n",
    "    nextButton.click() #clicking next button\n",
    "    \n",
    "print(\"Unliked\", count, \"images of profile 'dilsefoodie' successfully !\")\n",
    "\n",
    "ImageClose = driver.find_elements_by_class_name(\"wpO6b\")\n",
    "ImageClose[-1].click()"
   ]
  },
  {
   "cell_type": "markdown",
   "metadata": {},
   "source": [
    "6. Extract list of followers\n",
    "    1. Extract the usernames of the first 500 followers of ‘foodtalkindia’ and ‘sodelhi’.\n",
    "    2. Now print all the followers of “foodtalkindia” that you are following but those who don’t follow you."
   ]
  },
  {
   "cell_type": "code",
   "execution_count": 12,
   "metadata": {},
   "outputs": [],
   "source": [
    "def followers(quantity): #Function to extract the followers of a profile\n",
    "    print(\"Extracting first\", quantity, \"usernames of profile....\")\n",
    "    time.sleep(2)\n",
    "    followersButton = driver.find_elements_by_class_name(\"-nal3\")\n",
    "    if(len(followersButton)!= 0):\n",
    "        followersButton[1].click()\n",
    "        \n",
    "    else:\n",
    "        time.sleep(2)\n",
    "        followersButton = driver.find_elements_by_class_name(\"LH36I\")\n",
    "        followersButton[1].click()\n",
    "        \n",
    "    waitNext = WebDriverWait(driver, 30)\n",
    "    waitNext.until(EC.presence_of_element_located((By.XPATH, \"//a[contains(@class, 'FPmhX')]\")))\n",
    "    followerName = driver.find_elements_by_xpath(\"//a[contains(@class, 'FPmhX')]\")\n",
    "    \n",
    "    if(len(followerName) < quantity): \n",
    "        while(True):#loop for scrolling till 500 followers are extracted\n",
    "            waitNext = WebDriverWait(driver, 30)\n",
    "            waitNext.until(EC.presence_of_element_located((By.XPATH, \"//div[contains(@class, 'isgrP')]\")))#waiting for the followers pop up\n",
    "            followers_popup = driver.find_element_by_xpath(\"//div[contains(@class, 'isgrP')]\")\n",
    "            driver.execute_script(\"arguments[0].scrollTop = arguments[0].scrollHeight\", followers_popup)\n",
    "            time.sleep(1)\n",
    "            followerName = driver.find_elements_by_xpath(\"//a[contains(@class, 'FPmhX')]\")\n",
    "            if(len(followerName) >= quantity): \n",
    "                break\n",
    "                \n",
    "    print(\"First\", quantity,\"followers are: \")\n",
    "    print(\"-\" * 100)\n",
    "    for i in range(quantity):\n",
    "        print(followerName[i].text, end = \", \")\n",
    "    print()\n",
    "    print(\"-\" * 100)\n",
    "    closeButton = driver.find_elements_by_class_name(\"wpO6b\")#closing the followers popup\n",
    "    closeButton[1].click()\n",
    "    print(\"Exracted\", quantity, \"followers successfully !\")\n",
    "    return"
   ]
  },
  {
   "cell_type": "code",
   "execution_count": 13,
   "metadata": {},
   "outputs": [
    {
     "name": "stdout",
     "output_type": "stream",
     "text": [
      "Extracting first 500 usernames of profile....\n",
      "First 500 followers are: \n",
      "----------------------------------------------------------------------------------------------------\n",
      "swaru__67, ram_siingh, iamssk_46, s.k_soyal, thatgastronaut, thelivingdish, saniaaaa.pvt, irenesgroup, foodjinie, ___lokesh___45, the_kitchen__hub, lokushsinghdeaf, pulakteamasala, kota_promotion, its_utm, lovefood605, srilakshmiyengar, evocus_dn_nutrition_thane_unr, nuker_r, chef_ankit_singh243, bonheur_et_paix_, modern_suits_house, star_soul_toffee, kammoun_marwa, hmraihanhosain, silna.___, al_bismillah_biriyani, saggi_pooja, wasimakramjal, husen8540, gargimukherji1988, rakesh.vineet, ashvi_singh_sky_002, aarti_singh_5852, iampatil__, kitchen_tikka, devyani_bagla, easy_vegetarian_recipes, mom2devsof, maddyhonney, mamta_ajit_mehrotra, bakesburg.bakery, m_a_j_e_e_d_madboi, the_food_aroma, chaibaaz.in, eventfoo, urvashi.imaws, thecookliker, punitaryan_, desi_foodx, pramod_pawar_official_001, the_girlnxtdoor, aaki10, cheesenmore.in, an_enthusiaster_world, kebabs.and.curries, iamvanjani, zeel_beauty_care_, __scribblings___, goyalshuyeta, thefoodtubes, architanand_, its__arsalan__qureshi, foodstationbylalli, flyerstheband, rvkotadiya, rajputmoh2910, ypd07, rahul_gosain20, saku_queen_, urstruly_srichandan, _dineinmykitchen_, admen_naraina, smit.mehta.73, tahirsultan, _mr_cristiano7, manikdawar, ktasaravanan, suramyaboutique, priyanshhhiii, lyudmilasilchenko, gourmetgurl77, _khaadya_padarth, renukaperumal58, shradhabaluni, lukkakhasiya, pari_angel_06, refectionsthejuicebar, indian_food_explore, raginisanghi, pupz_creations, samm_khan_000, tonyemagnu, simply_unique_1, mandikueen, table_lust, the_bakerstable__, anshusuneja90, shubhamgorse4263, maharani.spices, cane_luxury_outdoor_furniture, virendrasingh611, food_cravings__, icon.hotels, themorningdrugcoffee, mycookingtrail, foodiethefoodlover, shiro_kyojq, shanucaterers, anshukrsharma9932, offical100rab, jc_9930, rachana______12, bhoiavash, mr_aditya_09_____, only_shankar_sp_, ravleen9882, moo.oo.oo.lll, swati_dhus_pimparkar, marvel_mayur, hindavi1015, mahiraa_pandit, thesavorybites, hungryqueensfan_page, namratabajpai2165, nidhii_verma_, tibrewalanjalii, kulcha_puri, iqrajahan5464, hillqueenmushroom, rahulsuthar4446, esranurokk, baohaus.in, naina07_._, arjitanejaworld, india_jemsjohn, dhruvkapoor92, foodie_n_mooddie, renubist3107, deepakarya9294, adityayadav8313, devalkapoor9, bcreamymumbai, shivangi_mallick, desirezest, little_chow_11, arnold_tharayil, foddie_forever_, giftophillia, skcookbook, srcfarms, sukantverma_97, nehu_1826, getinsta_35, bhukk.add, kohl_art, mrco.negatives, betwothree, maryasaeedb, ___art_l0ver_190___, shivyapvt, zehenfambruh818, cocinando_ninja, vishal21789, anjalirawatkaur, d.mourya94, organicbowls, foreigner.in.india, lsuharsh, jaiswal.savitri, _devika_redii, indiankid_anvi, indianart.work, bbabe_yo, tokjhaalmishti_, djayskitchenmenu, ayush_aka_jimmy, anithanarnavaram, cook_e_wars, janarthananrb, sk2629187933, kirankapoor27, ghafoori_official, kartikyaofficial, _lazy_eaters_, 1927___fatima, nupursin, chefgonzalez2020, vishalfoodblogger, rahul_edit__, shinde_preetii, kottanzroopnagar, fresh_e_licious, richamanchanda17, thebelgianwafflechd, teamhouseofdelights, sheth6723, xx__vishal__lovers__xx, mrki.ng75, abhisheksharma5764, evil_queen044, sabz_zaika, 20gau_rav, prabir.naskar.357622, classy._.treats, barcosindia, alpesh.vaghashiya, abiramikm, lalit_kishor1712, mayab_shariff, ashwin_dagade, smita.niyogi, salma_ahmd08, arundhatikatju, anas007mr, bhai_ki_rasoi, odisha_food_walks, mehak_ratta, drishtioven, bababikramkeshari, shal_ini2227, monica.motwani.14, angi_cut_un_drop, food.o.kolkata, deepashreekample, _foodoholic_, anjimaxuofficially_45, shroff_ashreet_official, koshinder672, aadeshbabar, heenas_healthfoods, thoughts.become.things._, ashwinwaghaye, puja7999, saleshoppingtime, fashion_nova76, nickishoppe, themystikal, laxmicook, gayathrisrinivasan.219, apsarastephen, sagar_chanjhotra, ccfsmj, foodarthospitality, suroj728, brownesam, faizan_turay, phomellohome, baby.babita.146, homechefsofmumbai, sachin__she80, armuu71, gourmetised, paf_resort, _utta_ran_away_, abidi947, satyamtiwari8581, krishundkat, kingky_eats, harryyyy94, khaanabadosh_official, eat.on_sunday, nimishazutshi, baker_doc_, _bookjunky, food_loveer_________, shiv.amn, brunch_talks, sasikalaganesan, rowdy_6161, _sinful__temptations_, heavenly_food_craving, manu_34578, hemangikarad, _pathunt1957, siddhesh5239, a_p.i.n.143, rashmiranjangadapalla, thatindecentgenre, s.shivaapillai, vani0556, shumdarioismine, 7263_mani, tansharma0391, foodstories705, namratachugh, rimakhoslaartistales, miulovesfood, richa_sriv, kameenay, meethamatics, food_surfing, notyour.lifestyle, foodlinkcatering, famishedcat, kohl.lined.perspectives, onepunch_45, vivekrajdmk, tablefortwo2018, thefitkitchenudaipur, anoori_muhammed, santriptlily, bablu.bablumahto.967, _barish_ki_bude_, hurry_curryy, farjipunjabi, chakh_kar_dekho, kuwershubhamrajput, ruchikumari28630, padavum.varayum, _still_____wiz_, archit1291, mehrvan_attires, thelayzbawarchi, s_x_s_a_n_i_x_s, tiny_palate, rev_______1, balajibala283, prajwal8321, saurabhr73, gharkeswad, ashch1, clotheshanger123, your_future_foodblogger, sandeep5795, simranjit_singh55, organical.shop, plantbasedhermit, alishadebara, bulandu25, the__guru_, ijiagrewal, speed_lover97, cheesecakewonderland, diy.foodie_0604, ritu.kapoor.9216, shivangiraj72, basmalaghaze, hyanglami_by_rumi, sahib.arora_since1994, btsborahae08, karansaa999, cacaotree.in, altering_food, vdesi_food, spic_ysugar, gianis_malad, sunil.8525, sonidaswani, kiara.singh020, meghcaptures, choclates_baby_143, b___kishore, bakedbros.in, foodiekomal, kritikasarin, thedruidgardenkm, pratikiscoolenough, pickneat2020, maheshbhayya, foodieyukti, meghamahajan42, hani_sheikh_78, marcotte_sheenamalik, devranta_manushya, kailash.bankar1, mischellepravina, shubhtyagi7892, vermanant73, jayashree.behera.7121, instacafelive, dr.farri, paras.mad, _iam_reshu, soh4608, saa_caterers, thilothamah, natureshipfoods, thakurrudraprataps, pragyadashore, food_for_thought936, _vaibhavipatil__, hangrybirdfood, neha_upadhyay141, foodgasmm_blog, zaikaumang, rashmaaayu_vashisht, rohina26, foodloverpronita_, itsme_bbhaavaanaa, pinchofspiceandyumnum, thepuppychinocafe, the_weird_misanthrope, miss_fabulous_mn, pvtachint, escapadingwhims, indian_foodcounter, arav_ronaldo_cr7, mommytimesblog, food.crush07, parvinder99, thefoodiesista, navleenkhanna, shuhaib_tharayil, shubhamjain275, big.heart240, flourgirlbombay, chef_minhaj, amanbandta, foodies_jugaad, sumxxt.t, kellyruth1996, muffinqueen378, 69foodie69, anjali.manaktala, ashnoor_makeovers, foodie__bae__, gavynnygwtyn, mirza_faheem_, drqueenbee, _.praharshitasusarla._, rupanshikosta23, kukiskitchen4u, dishakapoor28, gsinghgajendra123, sonalichughh, _error._.98_, mumbai_macarons, laziz_by_shaheda, leo_diaz_11, petals.punjabi, darbar0054, s1n2l, iam_sundharesan, immigrantfoodstory, _raj.vivek, landge_speaks, sagarbhagat2222, sweetsour_23, artistakrishan, soura_vkashyap, shakirkhan112233, sunil_rwt_143, richa.jhawar.369, the_vivek_hinge, adel_almalki_1402, sunitarathod707, ig_susmita_baskey, iamn.eha2, maheshwari_mahadevaprasad, architha89, priyankaagoyall, zeeshanmzk215225, dharazt, pillu5899, chickenlagoon, pawan45.5, imperialkitchenandheri, oneimperialplace, unluck_boy_dk_, aastha.kataria.6, flavouredespresso, notty_priyanshu_, md_irfan5555, shubhamsinghrajput2004boy, fruit.print, vishal_jangale_15, country.cookbook, sizzlingsaron, gandhimathigoldhouse, foodiemoodyy, poonam27_augustgirl_sunshine, jitesh_jsk, hungry.pahadi, jayanthi.venugopal, tejal_912, _umair._.sheikh_, _yamini_dave_27, chow.hood, food_for_the_belle, tasty_tangolaa, ___sher.in___, sury.ansh84, marshell755, aravindrocksaravindrocks, shamiwohbhiphirse, thenagpuriartist, waiting_for_waiter, sabhnazir, kanu990014, aditpratapmadan, foodlovers.tty, live_food_corner, rudevictoriorock, pankaj_1194.g, rembobawaniya, nosemcasa.nelio, emitra.namner1387, carte.co.in, creationoffood, \n",
      "----------------------------------------------------------------------------------------------------\n",
      "Exracted 500 followers successfully !\n"
     ]
    }
   ],
   "source": [
    "#followers of 'foodtalkindia'\n",
    "visit('foodtalkindia')\n",
    "followers(500)"
   ]
  },
  {
   "cell_type": "code",
   "execution_count": 14,
   "metadata": {},
   "outputs": [
    {
     "name": "stdout",
     "output_type": "stream",
     "text": [
      "Extracting first 500 usernames of profile....\n",
      "First 500 followers are: \n",
      "----------------------------------------------------------------------------------------------------\n",
      "manish.himp, akshat_tickoo, payal.sharmamann, kp_bilities, pria_jaiswal, donabhardwaj15, paras_batra, _god_.loves._you, setdesign8, kalakaarkunal, yatharthbhardwaj_, rb_supporter_g.m_editz, noorkalikhan786, fabricyouwear, mr_akshuu_, amitranaaaa, __manvendra__yadav__, harmann_veere, stonnerarmy, zainab_khan30.09, sandyrao_, _sheena.bhatia_, bon_viveur14, anshul_official27, user_johann, foodjinie, rahul_cool_pandit, kanishq_basoya_dellhii0001, the_air_nomad, damn.famxpyarrr, ramkumar.15, maulik._.shah, tej.jass.9, yashkalra15, _l0ve.h0use_, g.ishaan03, spsr_brand_kurti, aakash_chauhan16, toomuchsanskaari, pandey68814, mayanknimesh21, imphal_city, bodyiva_n, _pagefacts, arjunrawat__20, shubham.sr4, nikhilnainiwal.14, ashna.gupta1996, gour.parvej, sohamnsharma27, iam_pragyesh, degvancho, mustafa_shaikh_m_t_s, vbvinayak16, vikassingh_95, _.harsshit, simrellaa_, foodibaniya, mayankgaur, nikkuj775, ooh_hi_i_am_khan_, mr.bhatti.shab, gopsd19, shwetta7_7, _tarbia.h_._0409, aishu_tyagi_, virajkalra, peachi_prachi, hellsangel123456, silky.malik, jusleen_oberoi, secretswad, umang_agarwal__, mohammad.shabbir.52687506, garimaparuthi, shiva_sharma_srk, dwiz_gautam, 1thoughts9, arushij21, zindagikekissebymohit, maria_laura_villarino, anubhamaini, sh.ii.vam, k2_aditi_, rahul.gihara.39, amiable.amar, aakkritiiiiiii, kai_lania15, mayank_sen_7410, irtaza.j.syed, mihirp97, wenjun_7, ojasvvv, tina_sunheria, _.gunjan25, aa.nchal99, deep__shiikha, _preetigautam_, dasamardeepkumar, ibra_him9569, arushiniga, perfect_capture79, stressbuster_relievers, nikita.kapur, sachdeva_prachi93, ashish_arora7, _jeeb_lover_sinu, charneee____, surbhiijoshi, jagriti_pandit, md.abdin.14268, mr_perfecr_04, pawar_shashank, debevolves, saumya02_, djsonnycheeba, mysticalgoldenwings_11, arushi.gupta89, aditya.rajput99, khushi_srivas883, prerna_1965, _ra__yh__an, taniya_lau, fbphoto195869515318415seta.110, panjaritabrata, rahilfatema, esha_bansal_, tanyadalal09, ratna.priya_, _gudiya.pandey_, surbhu, srishti_kumar20, rakhi_.16, nancyrampal, maddyhonney, __.haritha.__, advityasabharwal, thechocolateroom_chd_, bhawani_singh__kumawat, priyanka.sehgal00, amanmahendru, saarraa24, strayed._.boy, lkhan.ismai, ch.anda8612, prashh484, bakesburg.bakery, officialgourav144, rameshvar712, kodybandu, muskaaaaannn, knowtheunknown9, rachna_dutta, sanchita_garg11, 1212jayesh, hk_king_bolate, siddhant_ahuja, ___n__i__s__h__l__y___, nitu_._singh, jethiya.11, thefoodieexperience_, vaibhav_gupta__, mr.thor_q, harminderkwatra, as.mita5363, chatore_insta, binnupaaps, ratna_depp, loving_raj_13.9, leo_woman29, thecookliker, _.n.i.d.h.i.14.19, nishakumari7778, nilofer.e, foodstationbylalli, eareshrampoor, fakesourabh, anjuumjuneja, simpy_yadav_27, letsfindoutme, sirisha.tumuluri, vamsaa, amangupta_42, gadariya_1, crunchymunchy28, fatir.khan.3705, choudhary_ramchandra_mundel, ankush.sharma98, arry_array, hemant7471, ankitach786, nasir_hena, snehxr, nagpalkirtika, aqua_india_pets_8055, tuffimatix, up650001, jainisha007, savita_chawlaa, famma07, iamssiddiqui, crazysilhouettes06, adityaaaa.b, be_like_dev, newdelhiblogger, taiba0896, kaushik94abhishek, _mohitdubey0001, vipultalwar, aenapooja, jewelz.forever, roshanvermaraja, nandni.mehla, a_new_dream_on_way, bhawana.tiwari, namastejaipurr, shallyyxo, gautamkhurana28, sakshidhawan56, gourmet_prime, shuklabrothersmzp, gaurav.m88, twinkle___gupta, shnaya_sharma_123, liv_sul, bharatengrd, kapilmeena.71, sharmaabhishek9560, shivgujjar.gujjar, aarti.1209, shailu_man, rarahul7828, rajatgoyal.18, purvansh08, suri.udit, rjnish6, shreyaabagchi, chopraa30.pvt, kehkashajule, shwetakuchhal, the_college_noob, devrathore05, kunika706, golden_butterfly1176, jazshxx.pvt, mummanamahesh, muskaanxo_01, vishnuchinna95, malik.sakshi25, tashur_kaul, dilli_ki_bhukkad, jayati_pathak_, iishitakaushal, _pankhuri.jain_, bro999super, maahi_mrinalini, dev.editography, ladla__raj__alex, mushfika_bhuiyan, ashishkhari, sarthakahuja25, maneshivaani, shaimaa7555, iamanishyadav, khadijagahm, ananya.smile, evilordz, adcierge_, swarashah05, saadiiiyaa__, harshitagupta_96, meg_ow, yasho1507, themisfit_tj, a___pvt___, jazzzz189, saaaamriddhi, faizan_khan_2421, attreya_a, aawwditi, thegillresidency, vivasvan.tewari, payalpunn_, _that_rainbowgirl, papiyapayel98, behzad.motaman, _thevaliant1, twinkle3419, naveenverma___, yeldakskn, samar__5018, jhnvishrm, imabhimanyusharma, tohidarshak, meenalaswal, surabhijnv, _pashabhai_, pikachu_7182__, meghugoyal, ratimehra31, t_zhilik, sid.s.borah, tevatia_5, leadingladiesdelhi, guruprasadca123, shanzalmirza_, ahappy_soul_, jraja5652, jessikapatil, lipikarustagi, _riturohilla, sudsudii, vivek.bhardwaj.52056, preetvipan10, its_kanishk.sardana, wanping398, exoticglamup, rishab.getcontext, priyanshhhiii, deepanshu_kundra, kiran_.meena_, ss_swati203, tripti.sharma.111, parth96sharma, itx_darkangel, himanshu_306, energetic_aman_007, abhishek.bagga, _yashsangtani_, voyagerbees, sanualvi497, itsfoodieadda, vineeta_bhatnagar, nishakirar, king_of_mandhra.143, nehagarg0615, _samresh, elearningcours, kanika_narang, knotaboo, jewels_by_ruchisuri, preetic_1310, kaushikfilms74, varunrock88, sidhe_pahad_se, aapan_ka_uttar_pradesh, alamgirlshostelpg, dr.asma_jvd, itz_komal_singh_98, willemsechanel, punu_saini, shutter_khor, riddhima_chandra, priyanka58patil, gautamkumar3649, im.s.i.d, gsp_79, peace_out610, beauty_of_imagination012, aggarwal.ashmita, arche_rai, ourownjeweller, myrootsmystory, jiyoraw.cold.pressed.oil, arya_value_bazaar, abrar_abdulla_, ganesh.maida.3382, karma_thelove, pramanik4325, realdk21, samridhijindal9, numismatic_tendencies, vishukumar8683, afi.ya45, engschr, taniya_ghh, akhil0__3, your_best_shape_with_dee, __.bad_boy.__x, _hey.its.badjatiya_, paradise_captured_, smoresbysrish, rashiarorachawla, avneet_786, kitchenflavoursdelhi, vaibhavsa9, amitava_26, sazzita20, gautamshubham_, priyaahuja2703, gar.imaaa, brushandburp, divyanikaaaaaa, riyaaaa_saini, akshatdube_, terrible_soul_27, shahrukhaftab, borderline.bored, iam_varunn, bhawna_dalal, ritu13mishra, _sharming_makuep_tutorial_, skpreyank, reboxnain, lookpannel_service, diyasoni_23, gopal_gupta_99, shradhakhattar, saw_mea, ashrk96, scpe.xplained, faraz.calcutta, dekormore_, _raghavsachdeva, am.andeep3972, ishika0008, chadhaharman, anikaa_1803, nehaaa_ahujaa, kay_v_insta, king_quote13, foodie_delight_corner, s.mansi9621, _itz_moon_07, warry_dont, siddikkaaa, adn_mal, raviyadav, manojmehra_, rachnaa111, mess.thoughtsx, maharani.spices, mhkitchenlovers, ca_ashish_arora, komalpsingh, shivpriyasharma, __scrollerrr__, the_alpha_no1, sanchaliz, _.misbah____, imopster_07, sonib9755, _nikitasrivastava_, esunilsharma, max207807, asmahesan2, rachna_chopra26, karishma_dudani, _mr__spider_17, anita.pandey2293, 19_sanju, chef_kurlaev_, manvi.jainth.95, zoya._.mehdi, drammechanics, studio_myoho, vimla5184, chaibaaz.in, himanshilatawa, itsnneh, search_party_weekender, _ms_munazza_khan_, _kirtisangwan, rishitaverma040, devang_dewasi, yashtokas3, as_lam127, everything_pretty_collection, clarets_bakery, pratikshadatt, deepsharma1896, gordhanchoudhary397, varocks_a, dhruv.agrawal23, _.priya_jindal_, tuhinachoudhury, rigerafoods, shubhamgorse4263, shradha._malhotra, nafisaparveen2001, abhishek_sinhaji, trriippttii, iamjyotirathor, indarjeet_96, deeba_sharma, alamkhan908060, akashkashyap2160, srishtiii_15, tans_art0, srishti1708, vanshitavanshita, shweta.arora.3597, saqibsaqib142, rajat.gazre, sneha12487, gautham__jay, msboymanishofficial, rohildureja, jitinsingh_007, create_to_flourish, \n",
      "----------------------------------------------------------------------------------------------------\n",
      "Exracted 500 followers successfully !\n"
     ]
    }
   ],
   "source": [
    "#followers of 'sodelhi'\n",
    "visit('sodelhi')\n",
    "followers(500)"
   ]
  },
  {
   "cell_type": "code",
   "execution_count": 15,
   "metadata": {},
   "outputs": [
    {
     "name": "stdout",
     "output_type": "stream",
     "text": [
      "No mutual follower present !\n"
     ]
    }
   ],
   "source": [
    "### Mutual Followers of foodtalkindia not following me ####\n",
    "visit('foodtalkindia')\n",
    "waitNext = WebDriverWait(driver, 20) \n",
    "\n",
    "try : \n",
    "    waitNext.until(EC.element_to_be_clickable((By.CLASS_NAME,\"tc8A9\")))\n",
    "    mutual = driver.find_element_by_class_name(\"tc8A9\") #Clicking mutual follower link\n",
    "    mutual.click() #located and clicked                \n",
    "    waitNext = WebDriverWait(driver, 30)\n",
    "    waitNext.until(EC.element_to_be_clickable((By.XPATH, \"//a[contains(@class, 'yWX7d')]\")))\n",
    "    moreMutual = driver.find_element_by_xpath(\"//a[contains(@class, 'yWX7d')]\") #loaded more mutual followers\n",
    "    moreMutual.click() #located and clicked\n",
    "    waitNext = WebDriverWait(driver, 30)\n",
    "    waitNext.until(EC.presence_of_element_located((By.XPATH, \"//button[contains(@class, '_8A5w5')]\")))\n",
    "    followers = [] #making a list of followers whom I follow\n",
    "    while True:\n",
    "        following = driver.find_elements_by_xpath(\"//button[contains(@class, '_8A5w5')]\") \n",
    "        follow = driver.find_elements_by_xpath(\"//button[contains(@class, 'sqdOP')]\")\n",
    "        if(len(following) < len(follow)):\n",
    "            names = driver.find_elements_by_xpath(\"//a[contains(@class, 'FPmhX')]\")\n",
    "            for i in range(len(following)):\n",
    "                followers.append(names[i].text)\n",
    "            closeButton = driver.find_elements_by_class_name(\"wpO6b\")\n",
    "            closeButton[1].click()\n",
    "            break\n",
    "\n",
    "        else:\n",
    "            followers_popup = driver.find_element_by_xpath(\"//div[contains(@class, 'isgrP')]\")\n",
    "            driver.execute_script(\"arguments[0].scrollTop = arguments[0].scrollHeight\", followers_popup)\n",
    "    #### Going to my profile #######\n",
    "    time.sleep(2)\n",
    "    home = driver.find_elements_by_class_name(\"_6q-tv\")\n",
    "    home[1].click()\n",
    "    time.sleep(5)\n",
    "    followersButton = driver.find_elements_by_class_name(\"-nal3\")\n",
    "    if(len(followersButton)!= 0):\n",
    "        followersButton[1].click()\n",
    "        time.sleep(3)\n",
    "    else:\n",
    "        followersButton = driver.find_elements_by_class_name(\"LH36I\")\n",
    "        followersButton[1].click()\n",
    "        time.sleep(3)\n",
    "    followers_popup = driver.find_element_by_xpath(\"//div[contains(@class, 'isgrP')]\")\n",
    "    currentHeight = driver.execute_script(\"return arguments[0].scrollHeight\", followers_popup)\n",
    "    while True:\n",
    "        #followers_popup = driver.find_element_by_xpath(\"//div[contains(@class, 'isgrP')]\")\n",
    "        driver.execute_script(\"arguments[0].scrollTop = arguments[1]\", followers_popup, currentHeight)\n",
    "        time.sleep(2)\n",
    "        newHeight = driver.execute_script(\"return arguments[0].scrollHeight\", followers_popup)\n",
    "        if(newHeight == currentHeight):\n",
    "            break\n",
    "        currentHeight = newHeight\n",
    "    name_2 = driver.find_elements_by_xpath(\"//a[contains(@class, 'FPmhX')]\")\n",
    "    d = {} #Making a dictionary to make the search a lot easier\n",
    "    for i in name_2:\n",
    "        d[i.text] = 1\n",
    "    for i in followers:\n",
    "        if(i not in d):\n",
    "            print(i)\n",
    "    closeButton = driver.find_elements_by_class_name(\"wpO6b\") \n",
    "    closeButton[1].click() #Closing the followers pop-up\n",
    "except (NoSuchElementException, TimeoutException):\n",
    "        print(\"No mutual follower present !\")"
   ]
  },
  {
   "cell_type": "markdown",
   "metadata": {},
   "source": [
    "7. Check the story of ‘coding.ninjas’. Consider the following Scenarios and print error messages accordingly -\n",
    "    1. If You have already seen the story.\n",
    "    2. Or The user has no story.\n",
    "    3. Or View the story if not yet seen."
   ]
  },
  {
   "cell_type": "code",
   "execution_count": 16,
   "metadata": {},
   "outputs": [
    {
     "name": "stdout",
     "output_type": "stream",
     "text": [
      "Story Viewed Successfully\n"
     ]
    }
   ],
   "source": [
    "# visiting coding ninjas handle\n",
    "visit(\"codingninjas\")\n",
    "time.sleep(3)\n",
    "\n",
    "wait = WebDriverWait(driver, 10)#Waiting for 10 seconds\n",
    "wait.until(EC.presence_of_element_located((By.CLASS_NAME, \"CfWVH\")))\n",
    "\n",
    "storyViewed = driver.find_element_by_class_name(\"CfWVH\")\n",
    "size = storyViewed.get_attribute(\"style\").split(\";\")[3].split(\":\")[1].strip() #getting the story image size width\n",
    "##### Checking the story Part #########\n",
    "wait = WebDriverWait(driver, 10)#Waiting for 10 seconds\n",
    "wait.until(EC.presence_of_element_located((By.CLASS_NAME, \"_6q-tv\")))\n",
    "storyButton = driver.find_elements_by_class_name(\"_6q-tv\")\n",
    "if(size == \"166px\" or size == \"87px\"): #As the width is this much if we have already seen the story\n",
    "    print(\"The story is already viewed\")\n",
    "else:\n",
    "    try:\n",
    "        wait = WebDriverWait(driver, 10)#Waiting for 10 seconds\n",
    "        wait.until(EC.presence_of_element_located((By.CLASS_NAME, \"_6q-tv\")))\n",
    "        storyButton = driver.find_elements_by_class_name(\"_6q-tv\")\n",
    "        presence = storyButton[0].click() #Clicking the story image\n",
    "        wait = WebDriverWait(driver, 10)#Waiting for 10 seconds\n",
    "        wait.until(EC.presence_of_element_located((By.CLASS_NAME, \"B20bj\")))\n",
    "        storyPresence = driver.find_element_by_class_name(\"B20bj\")\n",
    "        print(\"Story Viewed Successfully\")\n",
    "        ## If story doesn't exixt\n",
    "    except (NoSuchElementException, TimeoutException):\n",
    "        print(\"No story present for this profile\")"
   ]
  }
 ],
 "metadata": {
  "kernelspec": {
   "display_name": "Python 3",
   "language": "python",
   "name": "python3"
  },
  "language_info": {
   "codemirror_mode": {
    "name": "ipython",
    "version": 3
   },
   "file_extension": ".py",
   "mimetype": "text/x-python",
   "name": "python",
   "nbconvert_exporter": "python",
   "pygments_lexer": "ipython3",
   "version": "3.8.3"
  }
 },
 "nbformat": 4,
 "nbformat_minor": 4
}

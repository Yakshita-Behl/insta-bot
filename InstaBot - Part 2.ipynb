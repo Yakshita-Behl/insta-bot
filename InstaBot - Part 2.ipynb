{
 "cells": [
  {
   "cell_type": "markdown",
   "metadata": {},
   "source": [
    "# INSTABOT - PART 2"
   ]
  },
  {
   "cell_type": "code",
   "execution_count": 14,
   "metadata": {},
   "outputs": [],
   "source": [
    "#files used\n",
    "from selenium import webdriver\n",
    "import time\n",
    "from selenium.webdriver.support.ui import WebDriverWait\n",
    "from selenium.webdriver.support import expected_conditions as EC\n",
    "from selenium.webdriver.common.by import By\n",
    "from selenium.common.exceptions import TimeoutException\n",
    "from selenium.common.exceptions import NoSuchElementException\n",
    "import matplotlib.pyplot as plt"
   ]
  },
  {
   "cell_type": "code",
   "execution_count": 15,
   "metadata": {},
   "outputs": [],
   "source": [
    "#Establishing a driver connection \n",
    "driver = webdriver.Edge(executable_path = \"C:\\\\Users\\\\vanib\\\\Desktop\\\\data_science\\\\msedgedriver.exe\")"
   ]
  },
  {
   "cell_type": "code",
   "execution_count": 16,
   "metadata": {},
   "outputs": [],
   "source": [
    "#opening instagram\n",
    "driver.get('https://www.instagram.com/')\n",
    "wait = WebDriverWait(driver, 10)#Waiting for 10 seconds\n",
    "wait.until(EC.presence_of_element_located((By.NAME, \"username\")))#Wait for the input box for username\n",
    "#logging in to instagram\n",
    "username = driver.find_element_by_name(\"username\")\n",
    "username.send_keys('SAMPLE USERNAME')\n",
    "\n",
    "wait = WebDriverWait(driver, 10) #Waiting for 10 seconds\n",
    "wait.until(EC.presence_of_element_located((By.NAME, \"password\"))) #Wait for the input box for password\n",
    "password = driver.find_element_by_name(\"password\")\n",
    "password.send_keys('SAMPLE PASSWORD')\n",
    "\n",
    "password.submit()"
   ]
  },
  {
   "cell_type": "markdown",
   "metadata": {},
   "source": [
    "Functions used.."
   ]
  },
  {
   "cell_type": "code",
   "execution_count": 17,
   "metadata": {},
   "outputs": [],
   "source": [
    "##function for calculating number of followers\n",
    "def numfollowers() :\n",
    "    time.sleep(2)\n",
    "    number = driver.find_elements_by_class_name(\"g47SY\")\n",
    "\n",
    "    followers = number[1].get_attribute(\"title\")\n",
    "    if(\",\" in followers):\n",
    "        string = \"\"\n",
    "        li = followers.split(\",\")\n",
    "        for i in range(len(li)):\n",
    "            string = string + li[i]\n",
    "        intfollowers = int(string)\n",
    "        return intfollowers\n",
    "    else:\n",
    "        intfollowers = int(followers)\n",
    "        return intfollowers\n",
    "    "
   ]
  },
  {
   "cell_type": "code",
   "execution_count": 18,
   "metadata": {},
   "outputs": [],
   "source": [
    "## function for visiting a profile on instagram\n",
    "def visit(name):\n",
    "    search_box = driver.find_element_by_xpath(\"//input[contains(@class, 'XTCLo')]\")\n",
    "    search_box.clear()\n",
    "    \n",
    "    search_box.send_keys(name)\n",
    "    time.sleep(4)#waiting for results to load\n",
    "    \n",
    "    insta_handle = driver.find_element_by_class_name(\"Ap253\")\n",
    "    insta_handle.click()\n",
    "    time.sleep(4)\n",
    "    \n",
    "    return"
   ]
  },
  {
   "cell_type": "markdown",
   "metadata": {},
   "source": [
    "From the list of instagram handles you obtained when you searched ‘food’ in previous project. Open the first 10 handles and find the top 5 which have the highest number of followers"
   ]
  },
  {
   "cell_type": "code",
   "execution_count": 28,
   "metadata": {},
   "outputs": [
    {
     "name": "stdout",
     "output_type": "stream",
     "text": [
      "--------------------------------------------------\n",
      "Top 5 profiles with highest followers are\n",
      "--------------------------------------------------\n",
      "foodys\n",
      "yourfoodlab\n",
      "dilsefoodie\n",
      "foodtalkindia\n",
      "thisisdelhi\n",
      "--------------------------------------------------\n"
     ]
    }
   ],
   "source": [
    "#searching for 'food' in search box\n",
    "typeField = driver.find_element_by_xpath(\"//input[contains(@class, 'XTCLo')]\") #loating the search box\n",
    "typeField.send_keys(\"food\") # searching for food in the search box\n",
    "\n",
    "\n",
    "wait = WebDriverWait(driver, 30) #Waiting for 10 seconds\n",
    "wait.until(EC.presence_of_element_located((By.CLASS_NAME, \"Ap253\"))) #Precaution if something happens\n",
    "\n",
    "acc_name = driver.find_elements_by_class_name(\"Ap253\") #Finding the class which contains data\n",
    "count = 1 #To count the number of accounts\n",
    "\n",
    "handles = []##list for extarcting the top 10 handles \n",
    "\n",
    "for i in range(len(acc_name)):\n",
    "    if(\"#\" not in acc_name[i].text and acc_name[i].text != \"Food Garage HUDA\"  and count <= 10): \n",
    "        handles.append(acc_name[i].text)\n",
    "        count += 1 \n",
    "        \n",
    "num_of_followers = {}## for finding the top 5 handles with maximum followers\n",
    "\n",
    "for i in range (len(handles)):\n",
    "    \n",
    "    visit(accountList[i])\n",
    "    total_followers = numfollowers()\n",
    "    num_of_followers[handles[i]] = total_followers\n",
    "    \n",
    "sortedDict = {k: v for k, v in sorted(num_of_followers.items(), key=lambda item: item[1], reverse = True)}##sorting the dictionary on the basis of followers in ascneding order\n",
    "profiles = list(sortedDict.keys())\n",
    "print(\"-\" * 50)\n",
    "print(\"Top 5 profiles with highest followers are\")\n",
    "print(\"-\" * 50)\n",
    "topFive = []\n",
    "for j in range(5):\n",
    "    topFive.append(profiles[j])\n",
    "    print(profiles[j])\n",
    "print(\"-\" * 50)"
   ]
  },
  {
   "cell_type": "markdown",
   "metadata": {},
   "source": [
    "Now Find the number of posts these handles have done in the previous 3 days."
   ]
  },
  {
   "cell_type": "code",
   "execution_count": 29,
   "metadata": {},
   "outputs": [
    {
     "name": "stdout",
     "output_type": "stream",
     "text": [
      "foodys posted 10 posts in previous 3 days.\n",
      "yourfoodlab posted 3 posts in previous 3 days.\n",
      "dilsefoodie posted 2 posts in previous 3 days.\n",
      "foodtalkindia posted 3 posts in previous 3 days.\n",
      "thisisdelhi posted 4 posts in previous 3 days.\n"
     ]
    }
   ],
   "source": [
    "postNumber = []\n",
    "for i in topFive:\n",
    "    visit(i)\n",
    "    wait = WebDriverWait(driver, 30) #Waiting for 10 seconds\n",
    "    wait.until(EC.presence_of_element_located((By.CLASS_NAME, \"_9AhH0\")))\n",
    "    imageLikes = driver.find_element_by_class_name(\"_9AhH0\")\n",
    "    imageLikes.click()\n",
    "    wait = WebDriverWait(driver, 30) #Waiting for 30 seconds\n",
    "    wait.until(EC.presence_of_element_located((By.CLASS_NAME, \"_97aPb \")))\n",
    "    #duration = driver.find_element_by_xpath(\"//time[contains(@class, '_1o9PC')]\")\n",
    "    count = 0\n",
    "    while True:\n",
    "        duration = driver.find_element_by_xpath(\"//time[contains(@class, '_1o9PC')]\")\n",
    "        if('HOUR' in duration.text  or '1 DAY' in duration.text or '2 DAYS' in duration.text or '3 DAYS' in duration.text or 'SECOND' in duration.text or 'MINUTES' in duration.text):\n",
    "            count += 1\n",
    "            waitNext = WebDriverWait(driver, 30)\n",
    "            waitNext.until(EC.element_to_be_clickable((By.XPATH, \"//a[contains(@class, '_65Bje')]\"))) #Precaution if something happens\n",
    "            nextButton = driver.find_element_by_xpath(\"//a[contains(@class, '_65Bje')]\") #next button for next image preview\n",
    "            nextButton.click() #clicking next button\n",
    "            wait = WebDriverWait(driver, 30) #Waiting for 30 seconds\n",
    "            wait.until(EC.presence_of_element_located((By.CLASS_NAME, \"_97aPb \")))\n",
    "        else:\n",
    "            ImageClose = driver.find_elements_by_class_name(\"wpO6b\")\n",
    "            ImageClose[-1].click()\n",
    "            break\n",
    "            \n",
    "    postNumber.append(count)\n",
    "for i in range(5):\n",
    "    print(topFive[i], \"posted\", postNumber[i], \"posts in previous 3 days.\")"
   ]
  },
  {
   "cell_type": "markdown",
   "metadata": {},
   "source": [
    "Depict this information using a suitable graph."
   ]
  },
  {
   "cell_type": "code",
   "execution_count": 30,
   "metadata": {},
   "outputs": [
    {
     "data": {
      "image/png": "[encoded data removed]",
      "text/plain": [
       "<Figure size 432x288 with 1 Axes>"
      ]
     },
     "metadata": {
      "needs_background": "light"
     },
     "output_type": "display_data"
    }
   ],
   "source": [
    "plt.bar(topFive, postNumber)\n",
    "plt.xticks(rotation=30)\n",
    "plt.xlabel(\"Usernames\")\n",
    "plt.ylabel(\"No. of Posts\")\n",
    "plt.show()"
   ]
  },
  {
   "cell_type": "markdown",
   "metadata": {},
   "source": [
    "Open the 5 handles you obtained in the last question, and scrape the content of the first 10 posts of each handle.\n",
    "\n",
    "Prepare a list of all words used in all the scraped posts and calculate the frequency of each word.\n",
    "\n",
    "Create a csv file with two columns : the word and its frequency"
   ]
  },
  {
   "cell_type": "code",
   "execution_count": 31,
   "metadata": {},
   "outputs": [
    {
     "name": "stdout",
     "output_type": "stream",
     "text": [
      "CSV file has been created to your working directory\n"
     ]
    }
   ],
   "source": [
    "import pandas as pd\n",
    "allWords = []\n",
    "hashtags = []\n",
    "for i in topFive:\n",
    "    count = 1\n",
    "    time.sleep(2)\n",
    "    visit(i)\n",
    "    wait = WebDriverWait(driver, 30) #Waiting for 10 seconds\n",
    "    wait.until(EC.presence_of_element_located((By.CLASS_NAME, \"_9AhH0\")))\n",
    "    imageLikes = driver.find_element_by_class_name(\"_9AhH0\")\n",
    "    imageLikes.click()\n",
    "    while(count <= 10):\n",
    "        wait = WebDriverWait(driver, 30) #Waiting for 10 seconds\n",
    "        wait.until(EC.presence_of_element_located((By.CLASS_NAME, \"C4VMK\")))\n",
    "        \n",
    "        contentFind = driver.find_element_by_xpath(\"//div[contains(@class, 'C4VMK')]/span\").get_attribute('textContent').strip().split(\" \")\n",
    "        for content in contentFind:\n",
    "            allWords.append(content)\n",
    "        for hashes in driver.find_elements_by_xpath('//div[contains(@class, \"C4VMK\")]/span//a'):\n",
    "            hashtags.append(hashes.get_attribute('innerHTML'))\n",
    "        waitNext = WebDriverWait(driver, 30)\n",
    "        waitNext.until(EC.element_to_be_clickable((By.XPATH, \"//a[contains(@class, '_65Bje')]\"))) #Precaution if something happens\n",
    "        nextButton = driver.find_element_by_xpath(\"//a[contains(@class, '_65Bje')]\") #next button for next image preview\n",
    "        nextButton.click() #clicking next button\n",
    "        count += 1\n",
    "    driver.back()\n",
    "    driver.back()\n",
    "    time.sleep(1)\n",
    "    \n",
    "df = pd.DataFrame()\n",
    "final = pd.DataFrame()\n",
    "df[\"Words\"] = allWords\n",
    "frequency = list(df['Words'].value_counts().values)\n",
    "final.to_csv('Hashtg_Frequencies.csv')\n",
    "words = list(df['Words'].value_counts().index)\n",
    "final[\"Words\"] = words\n",
    "final[\"Frequency\"] = frequency\n",
    "final.to_csv('Hashtg_Frequencies.csv')\n",
    "print(\"CSV file has been created to your working directory\")\n"
   ]
  },
  {
   "cell_type": "markdown",
   "metadata": {},
   "source": [
    "Now, find the hashtags that were most popular among these bloggers"
   ]
  },
  {
   "cell_type": "code",
   "execution_count": 32,
   "metadata": {},
   "outputs": [
    {
     "name": "stdout",
     "output_type": "stream",
     "text": [
      "Top 5 hashtags are: \n",
      "\n",
      "foodforlife : 16\n",
      "streetfood : 14\n",
      "dilsefoodie : 10\n",
      "foodphotography : 10\n",
      "spicy : 9\n",
      "homemade : 9\n"
     ]
    }
   ],
   "source": [
    "hashTags = []\n",
    "for i in hashtags:\n",
    "    if(i[0] == \"#\"):\n",
    "        hashTags.append(i[1:])\n",
    "hashTagCount = pd.DataFrame()\n",
    "hashTagCount[\"hashtags\"] = hashTags\n",
    "\n",
    "tag = list(hashTagCount['hashtags'].value_counts().index)[0:6]\n",
    "frequent = list(hashTagCount['hashtags'].value_counts().values)[0:6]\n",
    "print(\"Top 5 hashtags are: \")\n",
    "print()\n",
    "for i in range(len(tag)):\n",
    "    print(tag[i], \":\", frequent[i])"
   ]
  },
  {
   "cell_type": "markdown",
   "metadata": {},
   "source": [
    "Plot a Pie Chart of the top 5 hashtags obtained and the number of times they were used by these bloggers in the scraped posts."
   ]
  },
  {
   "cell_type": "code",
   "execution_count": 33,
   "metadata": {},
   "outputs": [
    {
     "data": {
      "image/png": "[encoded data removed]",
      "text/plain": [
       "<Figure size 432x288 with 1 Axes>"
      ]
     },
     "metadata": {},
     "output_type": "display_data"
    }
   ],
   "source": [
    "plt.pie(frequent, labels = tag, autopct='%.2f%%', shadow=True)\n",
    "plt.title('Pie Chart of the top 5 hashtags ')\n",
    "plt.show()"
   ]
  },
  {
   "cell_type": "markdown",
   "metadata": {},
   "source": [
    "Find out the likes of the top 10 posts of the 5 handles obtained earlier."
   ]
  },
  {
   "cell_type": "code",
   "execution_count": 23,
   "metadata": {},
   "outputs": [
    {
     "name": "stdout",
     "output_type": "stream",
     "text": [
      "Likes for each Handle are: \n",
      "\n",
      "foodys : 135420\n",
      "yourfoodlab : 284010\n",
      "dilsefoodie : 113857\n",
      "foodtalkindia : 5164\n",
      "thisisdelhi : 33874\n"
     ]
    }
   ],
   "source": [
    "TotalList = []\n",
    "for user in topFive:\n",
    "    count = 1\n",
    "    time.sleep(2)\n",
    "    visit(user)\n",
    "    wait = WebDriverWait(driver, 30) #Waiting for 10 seconds\n",
    "    wait.until(EC.presence_of_element_located((By.CLASS_NAME, \"_9AhH0\")))\n",
    "    imageLikes = driver.find_element_by_class_name(\"_9AhH0\")\n",
    "    imageLikes.click()\n",
    "    TotalLikes = 0\n",
    "    while(count <= 10):\n",
    "        try:\n",
    "            wait = WebDriverWait(driver, 6) #Waiting for 10 seconds\n",
    "            wait.until(EC.presence_of_element_located((By.XPATH, \"//div[contains(@class, 'Nm9Fw')]/button/span\")))\n",
    "            likeFind = driver.find_element_by_xpath('//div[contains(@class, \"Nm9Fw\")]/button/span')\n",
    "            currentLikes = likeFind.text\n",
    "        except:\n",
    "            wait = WebDriverWait(driver, 10) #Waiting for 10 seconds\n",
    "            wait.until(EC.element_to_be_clickable((By.CLASS_NAME, \"vcOH2\")))\n",
    "            viewFind = driver.find_element_by_class_name('vcOH2')\n",
    "            viewFind.click()\n",
    "            wait = WebDriverWait(driver, 10) #Waiting for 10 seconds\n",
    "            wait.until(EC.presence_of_element_located((By.XPATH, \"//div[contains(@class, 'vJRqr')]/span\")))\n",
    "            likeFind = driver.find_element_by_xpath('//div[contains(@class, \"vJRqr\")]/span')\n",
    "            currentLikes = likeFind.text\n",
    "            body = driver.find_element_by_class_name('QhbhU')\n",
    "            body.click()\n",
    "            \n",
    "        if(\",\" in currentLikes):\n",
    "            k = \"\"\n",
    "            a = currentLikes.split(\",\")\n",
    "            for j in range(len(a)):\n",
    "                k = k + a[j]\n",
    "            currentLikes = int(k)\n",
    "        else:\n",
    "            currentLikes = int(currentLikes)\n",
    "        TotalLikes = TotalLikes + currentLikes\n",
    "        waitNext = WebDriverWait(driver, 30)\n",
    "        waitNext.until(EC.element_to_be_clickable((By.XPATH, \"//a[contains(@class, '_65Bje')]\"))) #Precaution if something happens\n",
    "        nextButton = driver.find_element_by_xpath(\"//a[contains(@class, '_65Bje')]\") #next button for next image preview\n",
    "        nextButton.click()\n",
    "        count += 1\n",
    "    TotalList.append(TotalLikes)\n",
    "    ImageClose = driver.find_elements_by_class_name(\"wpO6b\")\n",
    "    ImageClose[-1].click()\n",
    "print(\"Likes for each Handle are: \")\n",
    "print()\n",
    "for i in range(5):\n",
    "    print(profiles[i], \":\", TotalList[i])"
   ]
  },
  {
   "cell_type": "markdown",
   "metadata": {},
   "source": [
    "Calculate the average likes for a handle."
   ]
  },
  {
   "cell_type": "code",
   "execution_count": 24,
   "metadata": {},
   "outputs": [
    {
     "name": "stdout",
     "output_type": "stream",
     "text": [
      "Average Likes for each handle are: \n",
      "\n",
      "foodys : 13542.0\n",
      "yourfoodlab : 28401.0\n",
      "dilsefoodie : 11385.7\n",
      "foodtalkindia : 516.4\n",
      "thisisdelhi : 3387.4\n"
     ]
    }
   ],
   "source": [
    "import numpy as np\n",
    "TotalList = np.array(TotalList)\n",
    "avgLikes = (TotalList/10)\n",
    "print(\"Average Likes for each handle are: \")\n",
    "print()\n",
    "for i in range(5):\n",
    "    print(profiles[i], \":\", avgLikes[i])"
   ]
  },
  {
   "cell_type": "markdown",
   "metadata": {},
   "source": [
    "Divide the average likes obtained from the number of followers of the handle to get the average followers:like ratio of each handle."
   ]
  },
  {
   "cell_type": "code",
   "execution_count": 25,
   "metadata": {},
   "outputs": [
    {
     "name": "stdout",
     "output_type": "stream",
     "text": [
      "Followers : Likes Ratio is: \n",
      "\n",
      "foodys : 661.9971939152267\n",
      "yourfoodlab : 51.689975705080805\n",
      "dilsefoodie : 58.45385000483062\n",
      "foodtalkindia : 586.1599535243997\n",
      "thisisdelhi : 48.59508767786503\n"
     ]
    }
   ],
   "source": [
    "NumberOfFollowers = list(sortedDict.values())[:5]\n",
    "followersLikes = NumberOfFollowers / avgLikes\n",
    "print(\"Followers : Likes Ratio is: \")\n",
    "print()\n",
    "for i in range(5):\n",
    "    print(profiles[i], \":\", followersLikes[i])"
   ]
  },
  {
   "cell_type": "markdown",
   "metadata": {},
   "source": [
    "Create a bar graph to depict the above obtained information."
   ]
  },
  {
   "cell_type": "code",
   "execution_count": 27,
   "metadata": {},
   "outputs": [
    {
     "data": {
      "image/png": "[encoded data removed]",
      "text/plain": [
       "<Figure size 432x288 with 1 Axes>"
      ]
     },
     "metadata": {
      "needs_background": "light"
     },
     "output_type": "display_data"
    }
   ],
   "source": [
    "a = [100.23, 200.23, 200.23, 200.23, 200.23]\n",
    "plt.bar(topFive, followersLikes)\n",
    "plt.xticks(rotation=45)\n",
    "plt.xlabel('Users', size=12)\n",
    "plt.ylabel('Average followers to likes ratio:', size=12)\n",
    "plt.show()"
   ]
  }
 ],
 "metadata": {
  "kernelspec": {
   "display_name": "Python 3",
   "language": "python",
   "name": "python3"
  },
  "language_info": {
   "codemirror_mode": {
    "name": "ipython",
    "version": 3
   },
   "file_extension": ".py",
   "mimetype": "text/x-python",
   "name": "python",
   "nbconvert_exporter": "python",
   "pygments_lexer": "ipython3",
   "version": "3.8.5"
  }
 },
 "nbformat": 4,
 "nbformat_minor": 4
}
